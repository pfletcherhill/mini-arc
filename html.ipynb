{
 "cells": [
  {
   "cell_type": "code",
   "execution_count": 12,
   "metadata": {},
   "outputs": [
    {
     "name": "stdout",
     "output_type": "stream",
     "text": [
      "20\n"
     ]
    }
   ],
   "source": [
    "valid_puzzles = [\n",
    "  \"00576224\",\n",
    "  # \"009d5c81\", hard\n",
    "  \"00dbd492\",\n",
    "  \"03560426\",\n",
    "  # \"05a7bcf2\", skip\n",
    "  \"0607ce86\",\n",
    "  \"0692e18c\",\n",
    "  \"070dd51e\",\n",
    "  \"08573cc6\",\n",
    "  \"0934a4d8\",\n",
    "  # \"09c534e7\", # hard\n",
    "  \"0a1d4ef5\",\n",
    "  # \"0a2355a6\", # hard\n",
    "  \"0b17323b\",\n",
    "  \"0bb8deee\",\n",
    "  \"0becf7df\", \n",
    "  \"0c786b71\",\n",
    "  \"0c9aba6e\",\n",
    "  \"0d87d2a6\",\n",
    "  \"0e671a1a\",\n",
    "  \"0f63c0b9\",\n",
    "  \"103eff5b\",\n",
    "  \"11e1fe23\", \n",
    "  # \"12422b43\", # pending\n",
    "  # \"12997ef3\",\n",
    "  # \"12eac192\",\n",
    "  # \"136b0064\",\n",
    "  # \"13713586\",\n",
    "  # \"137f0df0\",\n",
    "  # \"140c817e\"\n",
    "]\n",
    "\n",
    "print(len(valid_puzzles))"
   ]
  },
  {
   "cell_type": "code",
   "execution_count": 8,
   "metadata": {},
   "outputs": [
    {
     "name": "stdout",
     "output_type": "stream",
     "text": [
      "o1.html exists in 00576224\n",
      "o1.html exists in 00dbd492\n",
      "o1.html exists in 03560426\n",
      "o1.html exists in 0607ce86\n",
      "o1.html exists in 0692e18c\n",
      "o1.html exists in 070dd51e\n",
      "o1.html exists in 08573cc6\n",
      "o1.html exists in 0934a4d8\n",
      "o1.html exists in 0a1d4ef5\n",
      "o1.html exists in 0b17323b\n",
      "o1.html exists in 0bb8deee\n",
      "o1.html exists in 0becf7df\n",
      "o1.html exists in 0c786b71\n",
      "o1.html exists in 0c9aba6e\n",
      "o1.html exists in 0d87d2a6\n",
      "o1.html exists in 0e671a1a\n",
      "o1.html exists in 0f63c0b9\n"
     ]
    }
   ],
   "source": [
    "import os\n",
    "\n",
    "def check_o1_html(puzzle_ids):\n",
    "    results = {}\n",
    "    for puzzle_id in puzzle_ids:\n",
    "        file_path = os.path.join(\"html\", puzzle_id, \"o1.html\")\n",
    "        results[puzzle_id] = os.path.exists(file_path)\n",
    "    return results\n",
    "\n",
    "# Example usage\n",
    "existence_results = check_o1_html(valid_puzzles)\n",
    "\n",
    "for folder, exists in existence_results.items():\n",
    "    print(f\"o1.html {'exists' if exists else 'does not exist'} in {folder}\")"
   ]
  },
  {
   "cell_type": "code",
   "execution_count": 11,
   "metadata": {},
   "outputs": [],
   "source": [
    "import modal\n",
    "\n",
    "fn = modal.Function.lookup(\"arc-generator\", \"generate_data_from_html\")\n",
    "for puzzle_id in valid_puzzles:\n",
    "  fn_call = fn.spawn(puzzle_id, 100, 20, \"html_dim_20_small\")"
   ]
  },
  {
   "cell_type": "code",
   "execution_count": 1,
   "metadata": {},
   "outputs": [
    {
     "name": "stdout",
     "output_type": "stream",
     "text": [
      "Starting 103eff5b\n",
      "Iteration 0, done 1 puzzles. Time elapsed: 0.39s (0.01m). Per puzzle: 0.39s\n"
     ]
    },
    {
     "ename": "TimeoutException",
     "evalue": "Message: timeout: Timed out receiving message from renderer: 4.998\n  (Session info: chrome=128.0.6613.138)\nStacktrace:\n0   chromedriver                        0x0000000100c01208 cxxbridge1$str$ptr + 1927396\n1   chromedriver                        0x0000000100bf966c cxxbridge1$str$ptr + 1895752\n2   chromedriver                        0x00000001007f4808 cxxbridge1$string$len + 89564\n3   chromedriver                        0x00000001007df9c4 cxxbridge1$string$len + 3992\n4   chromedriver                        0x00000001007df74c cxxbridge1$string$len + 3360\n5   chromedriver                        0x00000001007ddae8 core::str::slice_error_fail::h6c488016ada29016 + 61084\n6   chromedriver                        0x00000001007de18c core::str::slice_error_fail::h6c488016ada29016 + 62784\n7   chromedriver                        0x00000001007ebef4 cxxbridge1$string$len + 54472\n8   chromedriver                        0x00000001007feeb8 cxxbridge1$string$len + 132236\n9   chromedriver                        0x00000001007de790 core::str::slice_error_fail::h6c488016ada29016 + 64324\n10  chromedriver                        0x00000001007fed80 cxxbridge1$string$len + 131924\n11  chromedriver                        0x0000000100872408 cxxbridge1$string$len + 604636\n12  chromedriver                        0x000000010082d698 cxxbridge1$string$len + 322668\n13  chromedriver                        0x000000010082e310 cxxbridge1$string$len + 325860\n14  chromedriver                        0x0000000100bc7e78 cxxbridge1$str$ptr + 1693012\n15  chromedriver                        0x0000000100bcc77c cxxbridge1$str$ptr + 1711704\n16  chromedriver                        0x0000000100bad3ec cxxbridge1$str$ptr + 1583816\n17  chromedriver                        0x0000000100bcd04c cxxbridge1$str$ptr + 1713960\n18  chromedriver                        0x0000000100b9dfc8 cxxbridge1$str$ptr + 1521316\n19  chromedriver                        0x0000000100beab68 cxxbridge1$str$ptr + 1835588\n20  chromedriver                        0x0000000100beace4 cxxbridge1$str$ptr + 1835968\n21  chromedriver                        0x0000000100bf9308 cxxbridge1$str$ptr + 1894884\n22  libsystem_pthread.dylib             0x000000018cbda034 _pthread_start + 136\n23  libsystem_pthread.dylib             0x000000018cbd4e3c thread_start + 8\n",
     "output_type": "error",
     "traceback": [
      "\u001b[0;31m---------------------------------------------------------------------------\u001b[0m",
      "\u001b[0;31mTimeoutException\u001b[0m                          Traceback (most recent call last)",
      "Cell \u001b[0;32mIn[1], line 27\u001b[0m\n\u001b[1;32m     24\u001b[0m \u001b[38;5;28mprint\u001b[39m(\u001b[38;5;124m\"\u001b[39m\u001b[38;5;124mStarting\u001b[39m\u001b[38;5;124m\"\u001b[39m, puzzle_id)\n\u001b[1;32m     26\u001b[0m \u001b[38;5;28;01mfor\u001b[39;00m i \u001b[38;5;129;01min\u001b[39;00m \u001b[38;5;28mrange\u001b[39m(num_puzzles):\n\u001b[0;32m---> 27\u001b[0m     raw_screenshot \u001b[38;5;241m=\u001b[39m \u001b[43mcapture_html_screenshot\u001b[49m\u001b[43m(\u001b[49m\u001b[43mdriver\u001b[49m\u001b[43m,\u001b[49m\u001b[43m \u001b[49m\u001b[43mfull_path\u001b[49m\u001b[43m)\u001b[49m\n\u001b[1;32m     28\u001b[0m     arc_puzzle_data, _ \u001b[38;5;241m=\u001b[39m process_screenshot(raw_screenshot)\n\u001b[1;32m     30\u001b[0m     puzzles\u001b[38;5;241m.\u001b[39mappend(arc_puzzle_data)\n",
      "File \u001b[0;32m~/work/arc-prize/arc_prize/synth_data/html.py:51\u001b[0m, in \u001b[0;36mcapture_html_screenshot\u001b[0;34m(driver, html_file)\u001b[0m\n\u001b[1;32m     50\u001b[0m \u001b[38;5;28;01mdef\u001b[39;00m \u001b[38;5;21mcapture_html_screenshot\u001b[39m(driver, html_file):\n\u001b[0;32m---> 51\u001b[0m     \u001b[43mdriver\u001b[49m\u001b[38;5;241;43m.\u001b[39;49m\u001b[43mget\u001b[49m\u001b[43m(\u001b[49m\u001b[38;5;124;43mf\u001b[39;49m\u001b[38;5;124;43m\"\u001b[39;49m\u001b[38;5;124;43mfile:///\u001b[39;49m\u001b[38;5;132;43;01m{\u001b[39;49;00m\u001b[43mhtml_file\u001b[49m\u001b[38;5;132;43;01m}\u001b[39;49;00m\u001b[38;5;124;43m\"\u001b[39;49m\u001b[43m)\u001b[49m\n\u001b[1;32m     52\u001b[0m     screenshot \u001b[38;5;241m=\u001b[39m driver\u001b[38;5;241m.\u001b[39mget_screenshot_as_base64()\n\u001b[1;32m     54\u001b[0m     \u001b[38;5;28;01mreturn\u001b[39;00m screenshot\n",
      "File \u001b[0;32m~/work/arc-prize/.venv/lib/python3.12/site-packages/selenium/webdriver/remote/webdriver.py:363\u001b[0m, in \u001b[0;36mWebDriver.get\u001b[0;34m(self, url)\u001b[0m\n\u001b[1;32m    361\u001b[0m \u001b[38;5;28;01mdef\u001b[39;00m \u001b[38;5;21mget\u001b[39m(\u001b[38;5;28mself\u001b[39m, url: \u001b[38;5;28mstr\u001b[39m) \u001b[38;5;241m-\u001b[39m\u001b[38;5;241m>\u001b[39m \u001b[38;5;28;01mNone\u001b[39;00m:\n\u001b[1;32m    362\u001b[0m \u001b[38;5;250m    \u001b[39m\u001b[38;5;124;03m\"\"\"Loads a web page in the current browser session.\"\"\"\u001b[39;00m\n\u001b[0;32m--> 363\u001b[0m     \u001b[38;5;28;43mself\u001b[39;49m\u001b[38;5;241;43m.\u001b[39;49m\u001b[43mexecute\u001b[49m\u001b[43m(\u001b[49m\u001b[43mCommand\u001b[49m\u001b[38;5;241;43m.\u001b[39;49m\u001b[43mGET\u001b[49m\u001b[43m,\u001b[49m\u001b[43m \u001b[49m\u001b[43m{\u001b[49m\u001b[38;5;124;43m\"\u001b[39;49m\u001b[38;5;124;43murl\u001b[39;49m\u001b[38;5;124;43m\"\u001b[39;49m\u001b[43m:\u001b[49m\u001b[43m \u001b[49m\u001b[43murl\u001b[49m\u001b[43m}\u001b[49m\u001b[43m)\u001b[49m\n",
      "File \u001b[0;32m~/work/arc-prize/.venv/lib/python3.12/site-packages/selenium/webdriver/remote/webdriver.py:354\u001b[0m, in \u001b[0;36mWebDriver.execute\u001b[0;34m(self, driver_command, params)\u001b[0m\n\u001b[1;32m    352\u001b[0m response \u001b[38;5;241m=\u001b[39m \u001b[38;5;28mself\u001b[39m\u001b[38;5;241m.\u001b[39mcommand_executor\u001b[38;5;241m.\u001b[39mexecute(driver_command, params)\n\u001b[1;32m    353\u001b[0m \u001b[38;5;28;01mif\u001b[39;00m response:\n\u001b[0;32m--> 354\u001b[0m     \u001b[38;5;28;43mself\u001b[39;49m\u001b[38;5;241;43m.\u001b[39;49m\u001b[43merror_handler\u001b[49m\u001b[38;5;241;43m.\u001b[39;49m\u001b[43mcheck_response\u001b[49m\u001b[43m(\u001b[49m\u001b[43mresponse\u001b[49m\u001b[43m)\u001b[49m\n\u001b[1;32m    355\u001b[0m     response[\u001b[38;5;124m\"\u001b[39m\u001b[38;5;124mvalue\u001b[39m\u001b[38;5;124m\"\u001b[39m] \u001b[38;5;241m=\u001b[39m \u001b[38;5;28mself\u001b[39m\u001b[38;5;241m.\u001b[39m_unwrap_value(response\u001b[38;5;241m.\u001b[39mget(\u001b[38;5;124m\"\u001b[39m\u001b[38;5;124mvalue\u001b[39m\u001b[38;5;124m\"\u001b[39m, \u001b[38;5;28;01mNone\u001b[39;00m))\n\u001b[1;32m    356\u001b[0m     \u001b[38;5;28;01mreturn\u001b[39;00m response\n",
      "File \u001b[0;32m~/work/arc-prize/.venv/lib/python3.12/site-packages/selenium/webdriver/remote/errorhandler.py:229\u001b[0m, in \u001b[0;36mErrorHandler.check_response\u001b[0;34m(self, response)\u001b[0m\n\u001b[1;32m    227\u001b[0m         alert_text \u001b[38;5;241m=\u001b[39m value[\u001b[38;5;124m\"\u001b[39m\u001b[38;5;124malert\u001b[39m\u001b[38;5;124m\"\u001b[39m]\u001b[38;5;241m.\u001b[39mget(\u001b[38;5;124m\"\u001b[39m\u001b[38;5;124mtext\u001b[39m\u001b[38;5;124m\"\u001b[39m)\n\u001b[1;32m    228\u001b[0m     \u001b[38;5;28;01mraise\u001b[39;00m exception_class(message, screen, stacktrace, alert_text)  \u001b[38;5;66;03m# type: ignore[call-arg]  # mypy is not smart enough here\u001b[39;00m\n\u001b[0;32m--> 229\u001b[0m \u001b[38;5;28;01mraise\u001b[39;00m exception_class(message, screen, stacktrace)\n",
      "\u001b[0;31mTimeoutException\u001b[0m: Message: timeout: Timed out receiving message from renderer: 4.998\n  (Session info: chrome=128.0.6613.138)\nStacktrace:\n0   chromedriver                        0x0000000100c01208 cxxbridge1$str$ptr + 1927396\n1   chromedriver                        0x0000000100bf966c cxxbridge1$str$ptr + 1895752\n2   chromedriver                        0x00000001007f4808 cxxbridge1$string$len + 89564\n3   chromedriver                        0x00000001007df9c4 cxxbridge1$string$len + 3992\n4   chromedriver                        0x00000001007df74c cxxbridge1$string$len + 3360\n5   chromedriver                        0x00000001007ddae8 core::str::slice_error_fail::h6c488016ada29016 + 61084\n6   chromedriver                        0x00000001007de18c core::str::slice_error_fail::h6c488016ada29016 + 62784\n7   chromedriver                        0x00000001007ebef4 cxxbridge1$string$len + 54472\n8   chromedriver                        0x00000001007feeb8 cxxbridge1$string$len + 132236\n9   chromedriver                        0x00000001007de790 core::str::slice_error_fail::h6c488016ada29016 + 64324\n10  chromedriver                        0x00000001007fed80 cxxbridge1$string$len + 131924\n11  chromedriver                        0x0000000100872408 cxxbridge1$string$len + 604636\n12  chromedriver                        0x000000010082d698 cxxbridge1$string$len + 322668\n13  chromedriver                        0x000000010082e310 cxxbridge1$string$len + 325860\n14  chromedriver                        0x0000000100bc7e78 cxxbridge1$str$ptr + 1693012\n15  chromedriver                        0x0000000100bcc77c cxxbridge1$str$ptr + 1711704\n16  chromedriver                        0x0000000100bad3ec cxxbridge1$str$ptr + 1583816\n17  chromedriver                        0x0000000100bcd04c cxxbridge1$str$ptr + 1713960\n18  chromedriver                        0x0000000100b9dfc8 cxxbridge1$str$ptr + 1521316\n19  chromedriver                        0x0000000100beab68 cxxbridge1$str$ptr + 1835588\n20  chromedriver                        0x0000000100beace4 cxxbridge1$str$ptr + 1835968\n21  chromedriver                        0x0000000100bf9308 cxxbridge1$str$ptr + 1894884\n22  libsystem_pthread.dylib             0x000000018cbda034 _pthread_start + 136\n23  libsystem_pthread.dylib             0x000000018cbd4e3c thread_start + 8\n"
     ]
    }
   ],
   "source": [
    "import json\n",
    "import os\n",
    "import time\n",
    "from arc_prize.synth_data.html import capture_html_screenshot, get_web_driver, process_screenshot\n",
    "\n",
    "num_puzzles = 5000\n",
    "dataset_dir = \"/Users/pfh/work/arc-data/html\"\n",
    "\n",
    "os.makedirs(dataset_dir, exist_ok=True)\n",
    "\n",
    "driver = get_web_driver(60, 150)\n",
    "\n",
    "puzzles = [\"103eff5b\", \"11e1fe23\"]\n",
    "\n",
    "for puzzle_id in puzzles:\n",
    "    html_file = f\"html/{puzzle_id}.html\"\n",
    "    current_dir = os.getcwd()\n",
    "    full_path = os.path.join(current_dir, html_file)\n",
    "    full_path = os.path.abspath(full_path)\n",
    "\n",
    "    start_time = time.time()\n",
    "    puzzles = []\n",
    "\n",
    "    print(\"Starting\", puzzle_id)\n",
    "\n",
    "    for i in range(num_puzzles):\n",
    "        try:\n",
    "            raw_screenshot = capture_html_screenshot(driver, full_path)\n",
    "            arc_puzzle_data, _ = process_screenshot(raw_screenshot)\n",
    "        except Exception as e:\n",
    "            print(\"Skipping\", e)\n",
    "            continue\n",
    "\n",
    "        puzzles.append(arc_puzzle_data)\n",
    "\n",
    "        if i % 100 == 0:\n",
    "            duration = time.time() - start_time\n",
    "            per_puzzle_time = duration / max(len(puzzles), 1)\n",
    "            print(\n",
    "                f\"Iteration {i}, done {len(puzzles)} puzzles. Time elapsed: {duration:.2f}s ({(duration / 60):.2f}m). Per puzzle: {per_puzzle_time:.2f}s\"\n",
    "            )\n",
    "    \n",
    "    duration = time.time() - start_time\n",
    "    print(\"Finished\", puzzle_id, f\"Total time: {duration:.2f}s ({(duration / 60):.2f}m)\")\n",
    "\n",
    "    with open(f\"{dataset_dir}/{puzzle_id}.json\", \"w\") as f:\n",
    "        json.dump(puzzles, f)\n",
    "\n",
    "driver.quit()\n",
    "\n"
   ]
  },
  {
   "cell_type": "code",
   "execution_count": null,
   "metadata": {},
   "outputs": [],
   "source": [
    "import os\n",
    "from arc_prize.synth_data.html import get_html, make_prompt\n",
    "\n",
    "puzzle_id = \"0f63c0b9\"\n",
    "os.makedirs(f\"html/{puzzle_id}\", exist_ok=True)\n",
    "\n",
    "print(make_prompt(puzzle_id))\n",
    "\n",
    "# for model in [\"claude\"]:\n",
    "#   for i in range(1):\n",
    "#     response = get_html(puzzle_id, model, output_file_path=f\"html/{puzzle_id}/{model}_{i}.html\")\n"
   ]
  }
 ],
 "metadata": {
  "kernelspec": {
   "display_name": ".venv",
   "language": "python",
   "name": "python3"
  },
  "language_info": {
   "codemirror_mode": {
    "name": "ipython",
    "version": 3
   },
   "file_extension": ".py",
   "mimetype": "text/x-python",
   "name": "python",
   "nbconvert_exporter": "python",
   "pygments_lexer": "ipython3",
   "version": "3.12.1"
  }
 },
 "nbformat": 4,
 "nbformat_minor": 2
}
