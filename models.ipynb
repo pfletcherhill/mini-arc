{
 "cells": [
  {
   "cell_type": "code",
   "execution_count": 2,
   "metadata": {},
   "outputs": [],
   "source": [
    "import torch\n",
    "from arc_prize.model import ARCTransformerEncoderDecoder\n",
    "from arc_prize.train import ARCModelState\n",
    "\n",
    "model_name = \"barely_clean_cicada\"\n",
    "model_filename = f\"models/{model_name}.pth\"\n",
    "\n",
    "device = torch.device(\"cuda\" if torch.cuda.is_available() else \"cpu\")\n",
    "\n",
    "checkpoint_dict = torch.load(model_filename, weights_only=False, map_location=device)\n",
    "checkpoint = ARCModelState(**checkpoint_dict)\n",
    "\n",
    "model = ARCTransformerEncoderDecoder(checkpoint.model_params)\n",
    "\n",
    "if checkpoint.model_state_dict is not None:\n",
    "    model.load_state_dict(checkpoint.model_state_dict)"
   ]
  },
  {
   "cell_type": "code",
   "execution_count": 3,
   "metadata": {},
   "outputs": [],
   "source": [
    "kaggle_model_filename = f\"kaggle/models/{model_name}.pth\"\n",
    "torch.save(model.state_dict(), kaggle_model_filename)"
   ]
  }
 ],
 "metadata": {
  "kernelspec": {
   "display_name": ".venv",
   "language": "python",
   "name": "python3"
  },
  "language_info": {
   "codemirror_mode": {
    "name": "ipython",
    "version": 3
   },
   "file_extension": ".py",
   "mimetype": "text/x-python",
   "name": "python",
   "nbconvert_exporter": "python",
   "pygments_lexer": "ipython3",
   "version": "3.12.1"
  }
 },
 "nbformat": 4,
 "nbformat_minor": 2
}
