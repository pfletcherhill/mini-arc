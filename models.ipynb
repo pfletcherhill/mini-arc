{
 "cells": [
  {
   "cell_type": "code",
   "execution_count": 42,
   "metadata": {},
   "outputs": [],
   "source": [
    "import torch\n",
    "from arc_prize.model import ARCTransformerEncoder, ARCTransformerEncoderDecoder, ARCVisionEncoder\n",
    "from arc_prize.train import ARCModelState\n",
    "\n",
    "# model_name = \"kindly_exact_beagle_5\"\n",
    "# model_klass = ARCTransformerEncoder\n",
    "model_name = \"jolly_picked_stud\"\n",
    "model_klass = ARCVisionEncoder\n",
    "\n",
    "model_filename = f\"/Users/pfh/work/arc-models/{model_name}.pth\"\n",
    "\n",
    "device = torch.device(\"cuda\" if torch.cuda.is_available() else \"cpu\")\n",
    "\n",
    "checkpoint_dict = torch.load(model_filename, weights_only=False, map_location=device)\n",
    "checkpoint = ARCModelState(**checkpoint_dict)\n",
    "\n",
    "model = model_klass(checkpoint.model_params)\n",
    "\n",
    "if checkpoint.model_state_dict is not None:\n",
    "    model.load_state_dict(checkpoint.model_state_dict)"
   ]
  },
  {
   "cell_type": "code",
   "execution_count": 43,
   "metadata": {},
   "outputs": [],
   "source": [
    "\n",
    "total_params = sum(p.numel() for p in model.parameters())\n",
    "trainable_params = sum(p.numel() for p in model.parameters() if p.requires_grad)"
   ]
  },
  {
   "cell_type": "code",
   "execution_count": null,
   "metadata": {},
   "outputs": [],
   "source": [
    "print(total_params, trainable_params)\n",
    "print(checkpoint.model_params)\n",
    "print(checkpoint.model_type)\n",
    "print(9*12*12+12*12)"
   ]
  },
  {
   "cell_type": "code",
   "execution_count": null,
   "metadata": {},
   "outputs": [],
   "source": [
    "embedding_params = sum(p.numel() for p in model.embedding.parameters())\n",
    "pos_encoding_params = sum(p.numel() for p in model.pos_encoding.parameters())\n",
    "print(embedding_params, pos_encoding_params)"
   ]
  },
  {
   "cell_type": "code",
   "execution_count": null,
   "metadata": {},
   "outputs": [],
   "source": [
    "embedding_params = sum(p.numel() for p in model.embedding.parameters())\n",
    "pos_encoding_params = sum(p.numel() for p in model.pos_encoding.parameters())\n",
    "tgt_params = sum(p.numel() for p in model.tgt_embedding.parameters())\n",
    "print(embedding_params, pos_encoding_params, tgt_params)\n",
    "\n"
   ]
  },
  {
   "cell_type": "code",
   "execution_count": 6,
   "metadata": {},
   "outputs": [],
   "source": [
    "kaggle_model_filename = f\"kaggle/models/{model_name}.pth\"\n",
    "torch.save(model.state_dict(), kaggle_model_filename)"
   ]
  }
 ],
 "metadata": {
  "kernelspec": {
   "display_name": ".venv",
   "language": "python",
   "name": "python3"
  },
  "language_info": {
   "codemirror_mode": {
    "name": "ipython",
    "version": 3
   },
   "file_extension": ".py",
   "mimetype": "text/x-python",
   "name": "python",
   "nbconvert_exporter": "python",
   "pygments_lexer": "ipython3",
   "version": "3.12.1"
  }
 },
 "nbformat": 4,
 "nbformat_minor": 2
}
