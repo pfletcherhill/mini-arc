{
 "cells": [
  {
   "cell_type": "code",
   "execution_count": null,
   "metadata": {},
   "outputs": [],
   "source": [
    "import os\n",
    "from arc_prize.synth_data.html import get_html, make_prompt\n",
    "\n",
    "puzzle_id = \"103eff5b\"\n",
    "os.makedirs(f\"html/{puzzle_id}\", exist_ok=True)\n",
    "\n",
    "print(make_prompt(puzzle_id))\n",
    "\n",
    "# for model in [\"claude\"]:\n",
    "#   for i in range(1):\n",
    "#     response = get_html(puzzle_id, model, output_file_path=f\"html/{puzzle_id}/{model}_{i}.html\")\n"
   ]
  }
 ],
 "metadata": {
  "language_info": {
   "name": "python"
  }
 },
 "nbformat": 4,
 "nbformat_minor": 2
}
