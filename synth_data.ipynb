{
 "cells": [
  {
   "cell_type": "code",
   "execution_count": 1,
   "metadata": {},
   "outputs": [
    {
     "ename": "TypeError",
     "evalue": "'dict_values' object is not subscriptable",
     "output_type": "error",
     "traceback": [
      "\u001b[0;31m---------------------------------------------------------------------------\u001b[0m",
      "\u001b[0;31mTypeError\u001b[0m                                 Traceback (most recent call last)",
      "Cell \u001b[0;32mIn[1], line 22\u001b[0m\n\u001b[1;32m     17\u001b[0m    json\u001b[38;5;241m.\u001b[39mdump(eval_solutions, f)\n\u001b[1;32m     21\u001b[0m \u001b[38;5;66;03m# Print a sample task to verify the format\u001b[39;00m\n\u001b[0;32m---> 22\u001b[0m sample_task \u001b[38;5;241m=\u001b[39m \u001b[43mchallenges\u001b[49m\u001b[38;5;241;43m.\u001b[39;49m\u001b[43mvalues\u001b[49m\u001b[43m(\u001b[49m\u001b[43m)\u001b[49m\u001b[43m[\u001b[49m\u001b[38;5;241;43m0\u001b[39;49m\u001b[43m]\u001b[49m\n\u001b[1;32m     23\u001b[0m visualize_grids(sample_task[\u001b[38;5;124m\"\u001b[39m\u001b[38;5;124mtrain\u001b[39m\u001b[38;5;124m\"\u001b[39m], sample_task[\u001b[38;5;124m\"\u001b[39m\u001b[38;5;124mtest\u001b[39m\u001b[38;5;124m\"\u001b[39m][\u001b[38;5;241m0\u001b[39m][\u001b[38;5;124m\"\u001b[39m\u001b[38;5;124minput\u001b[39m\u001b[38;5;124m\"\u001b[39m])\n",
      "\u001b[0;31mTypeError\u001b[0m: 'dict_values' object is not subscriptable"
     ]
    }
   ],
   "source": [
    "import json\n",
    "from arc_prize.synth_data import generate_dataset\n",
    "\n",
    "challenges, solutions = generate_dataset(num_tasks=100)\n",
    "eval_challenges, eval_solutions = generate_dataset(num_tasks=40)\n",
    "\n",
    "file_path_root = \"data/move_right/arc-synth_move_right\"\n",
    "with open(f\"{file_path_root}_training_challenges.json\", \"w\") as f:\n",
    "   json.dump(challenges, f)\n",
    "with open(f\"{file_path_root}_training_solutions.json\", \"w\") as f:\n",
    "   json.dump(solutions, f)\n",
    "with open(f\"{file_path_root}_evaluation_challenges.json\", \"w\") as f:\n",
    "   json.dump(eval_challenges, f)\n",
    "with open(f\"{file_path_root}_evaluation_solutions.json\", \"w\") as f:\n",
    "   json.dump(eval_solutions, f)\n",
    "\n",
    "\n"
   ]
  }
 ],
 "metadata": {
  "kernelspec": {
   "display_name": ".venv",
   "language": "python",
   "name": "python3"
  },
  "language_info": {
   "codemirror_mode": {
    "name": "ipython",
    "version": 3
   },
   "file_extension": ".py",
   "mimetype": "text/x-python",
   "name": "python",
   "nbconvert_exporter": "python",
   "pygments_lexer": "ipython3",
   "version": "3.12.1"
  }
 },
 "nbformat": 4,
 "nbformat_minor": 2
}
