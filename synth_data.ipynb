{
 "cells": [
  {
   "cell_type": "code",
   "execution_count": 2,
   "metadata": {},
   "outputs": [],
   "source": [
    "import json\n",
    "# from arc_prize.synth_data.move_many_random import generate_dataset\n",
    "from arc_prize.synth_data.flip import generate_dataset\n",
    "\n",
    "challenges, solutions = generate_dataset(num_tasks=1000)\n",
    "eval_challenges, eval_solutions = generate_dataset(num_tasks=200)\n",
    "\n",
    "file_path_root = \"data/flip\"\n",
    "with open(f\"{file_path_root}/training_challenges.json\", \"w\") as f:\n",
    "   json.dump(challenges, f)\n",
    "with open(f\"{file_path_root}/training_solutions.json\", \"w\") as f:\n",
    "   json.dump(solutions, f)\n",
    "with open(f\"{file_path_root}/evaluation_challenges.json\", \"w\") as f:\n",
    "   json.dump(eval_challenges, f)\n",
    "with open(f\"{file_path_root}/evaluation_solutions.json\", \"w\") as f:\n",
    "   json.dump(eval_solutions, f)\n",
    "\n",
    "\n"
   ]
  }
 ],
 "metadata": {
  "kernelspec": {
   "display_name": ".venv",
   "language": "python",
   "name": "python3"
  },
  "language_info": {
   "codemirror_mode": {
    "name": "ipython",
    "version": 3
   },
   "file_extension": ".py",
   "mimetype": "text/x-python",
   "name": "python",
   "nbconvert_exporter": "python",
   "pygments_lexer": "ipython3",
   "version": "3.12.1"
  }
 },
 "nbformat": 4,
 "nbformat_minor": 2
}
