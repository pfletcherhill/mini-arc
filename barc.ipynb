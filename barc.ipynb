{
 "cells": [
  {
   "cell_type": "code",
   "execution_count": 21,
   "metadata": {},
   "outputs": [],
   "source": [
    "import random\n",
    "\n",
    "\n",
    "def split_list(input_list: list, min_size: int = 2, max_size: int = 5) -> list[list]:\n",
    "    result = []\n",
    "    while len(input_list) >= min_size:\n",
    "        # Choose a random size between 2 and 5, but not larger than the remaining list\n",
    "        size = min(random.randint(min_size, max_size), len(input_list))\n",
    "        # Append a slice of the input list to the result\n",
    "        result.append(input_list[:size])\n",
    "        # Remove the slice from the input list\n",
    "        input_list = input_list[size:]\n",
    "    return result"
   ]
  },
  {
   "cell_type": "code",
   "execution_count": 33,
   "metadata": {},
   "outputs": [
    {
     "name": "stdout",
     "output_type": "stream",
     "text": [
      "30\n",
      "4\n"
     ]
    }
   ],
   "source": [
    "import json\n",
    "\n",
    "json_filename = \"/Users/pfh/work/arc-data/barc/data_suggestfunction_100k.jsonl\"\n",
    "output_filename = \"/Users/pfh/work/arc-data/barc/examples/data_suggestfunction_100k.json\"\n",
    "\n",
    "examples = []\n",
    "\n",
    "with open(json_filename, 'r') as file:\n",
    "    for line in file:\n",
    "        data = json.loads(line.strip())\n",
    "        print(len(data[\"examples\"]))\n",
    "        split_examples = split_list(data[\"examples\"], min_size=2, max_size=5)\n",
    "        examples.append(split_examples)\n",
    "\n",
    "with open(output_filename, \"w\") as file:\n",
    "    json.dump(examples, file)\n"
   ]
  },
  {
   "cell_type": "code",
   "execution_count": null,
   "metadata": {},
   "outputs": [],
   "source": [
    "import matplotlib.colors as mcolors\n",
    "import matplotlib.pyplot as plt\n",
    "import numpy as np\n",
    "import seaborn as sns\n",
    "\n",
    "COLORS = [\n",
    "    \"#111111\",  # black\n",
    "    \"#1E93FF\",  # blue\n",
    "    \"#F93C31\",  # red\n",
    "    \"#4FCC30\",  # green\n",
    "    \"#FFDC00\",  # yellow\n",
    "    \"#E6E6E6\",  # grey\n",
    "    \"#E53AA3\",  # magenta\n",
    "    \"#FF851B\",  # orange\n",
    "    \"#87D8F1\",  # light blue\n",
    "    \"#921231\",  # maroon\n",
    "    \"#FFFFFF\",\n",
    "]\n",
    "\n",
    "def display_grid(grids: list):\n",
    "    fig, axes = plt.subplots(1, 2, figsize=(20, 10))\n",
    "\n",
    "    cmap = mcolors.ListedColormap(COLORS)\n",
    "\n",
    "    for i, grid in enumerate(grids):\n",
    "      ax = axes[i]\n",
    "      im = ax.imshow(grid, cmap=cmap, vmin=0, vmax=len(COLORS) - 1)\n",
    "      ax.set_xticks([])\n",
    "      ax.set_yticks([])\n",
    "    \n",
    "    plt.tight_layout()\n",
    "    plt.show()\n",
    "\n",
    "\n",
    "len(examples)\n",
    "for example in examples:\n",
    "  display_grid(example)"
   ]
  }
 ],
 "metadata": {
  "kernelspec": {
   "display_name": ".venv",
   "language": "python",
   "name": "python3"
  },
  "language_info": {
   "codemirror_mode": {
    "name": "ipython",
    "version": 3
   },
   "file_extension": ".py",
   "mimetype": "text/x-python",
   "name": "python",
   "nbconvert_exporter": "python",
   "pygments_lexer": "ipython3",
   "version": "3.12.1"
  }
 },
 "nbformat": 4,
 "nbformat_minor": 2
}
